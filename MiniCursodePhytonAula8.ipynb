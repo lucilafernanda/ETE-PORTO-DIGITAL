{
  "nbformat": 4,
  "nbformat_minor": 0,
  "metadata": {
    "colab": {
      "name": "MiniCursodePhytonAula8.ipynb",
      "provenance": [],
      "authorship_tag": "ABX9TyPQIAOaaK1NX2wKBdOnJO9H",
      "include_colab_link": true
    },
    "kernelspec": {
      "name": "python3",
      "display_name": "Python 3"
    },
    "language_info": {
      "name": "python"
    }
  },
  "cells": [
    {
      "cell_type": "markdown",
      "metadata": {
        "id": "view-in-github",
        "colab_type": "text"
      },
      "source": [
        "<a href=\"https://colab.research.google.com/github/lucilafernanda/ETE-PORTO-DIGITAL/blob/main/MiniCursodePhytonAula8.ipynb\" target=\"_parent\"><img src=\"https://colab.research.google.com/assets/colab-badge.svg\" alt=\"Open In Colab\"/></a>"
      ]
    },
    {
      "cell_type": "code",
      "execution_count": 2,
      "metadata": {
        "colab": {
          "base_uri": "https://localhost:8080/"
        },
        "id": "ziu44XhCDEB9",
        "outputId": "2331443a-0a88-4ae0-ccec-acb24057c527"
      },
      "outputs": [
        {
          "output_type": "stream",
          "name": "stdout",
          "text": [
            "Digite um número:   5\n",
            "O número 5 é ímpar.\n"
          ]
        }
      ],
      "source": [
        "# Aula - Ep. #08 - Mini Curso de Phyton\n",
        "# Professor Cloves Rocha\n",
        "# Aluna: Lucila Silva\n",
        "# Estruturas Condicionais e Repetições\n",
        "\n",
        "num = int(input('Digite um número:   '))\n",
        "if num % 2 == 0:\n",
        "  print(f'O número {num} é par.')\n",
        "else:\n",
        "  print(f'O número {num} é ímpar.')\n",
        " "
      ]
    }
  ]
}