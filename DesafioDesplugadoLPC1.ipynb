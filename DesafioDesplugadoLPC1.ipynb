{
  "nbformat": 4,
  "nbformat_minor": 0,
  "metadata": {
    "colab": {
      "name": "DesafioDesplugadoLPC1.ipynb",
      "provenance": [],
      "authorship_tag": "ABX9TyOOkJyjoKBKgmO4eHj9G6+O",
      "include_colab_link": true
    },
    "kernelspec": {
      "name": "python3",
      "display_name": "Python 3"
    },
    "language_info": {
      "name": "python"
    }
  },
  "cells": [
    {
      "cell_type": "markdown",
      "metadata": {
        "id": "view-in-github",
        "colab_type": "text"
      },
      "source": [
        "<a href=\"https://colab.research.google.com/github/lucilafernanda/ETE-PORTO-DIGITAL/blob/main/DesafioDesplugadoLPC1.ipynb\" target=\"_parent\"><img src=\"https://colab.research.google.com/assets/colab-badge.svg\" alt=\"Open In Colab\"/></a>"
      ]
    },
    {
      "cell_type": "code",
      "execution_count": 14,
      "metadata": {
        "colab": {
          "base_uri": "https://localhost:8080/"
        },
        "id": "e_FoC8WZR72s",
        "outputId": "ac155b58-f031-4aaf-f6f8-8c68d551cd28"
      },
      "outputs": [
        {
          "output_type": "stream",
          "name": "stdout",
          "text": [
            "{'nome': 'maria', 'idade': 65}\n",
            "{'nome': 'lucila', 'idade': 34}\n",
            "{'nome': 'guilherme', 'idade': 33}\n",
            "{'nome': 'sophia', 'idade': 6}\n",
            "{'nome': 'liz', 'idade': 1}\n"
          ]
        }
      ],
      "source": [
        "# ETE - PORTO DIGITAL\n",
        "# DISCIPLINA: LÓGICA DE PROGRAMAÇÃO 1\n",
        "# PROFESSOR: CLOVES ROCHA\n",
        "# ALUNA: LUCILA SILVA\n",
        "\n",
        "# DESAFIO DESPLUGADO\n",
        "# 1. Usando for faça uma lista que com 5 nomes e 5 idades;\n",
        "# 2. Imprima uma lista com 5 nomes e 5 idades;\n",
        "# 3. Ranquei as 5 idades em ordem decrescente (maior para o menor).\n",
        "\n",
        "cadastro = [\n",
        "{'nome':'liz', 'idade':1},\n",
        "{'nome':'sophia','idade':6},\n",
        "{'nome':'guilherme', 'idade':33},  \n",
        "{'nome':'lucila', 'idade':34},  \n",
        "{'nome': 'maria', 'idade':65}  \n",
        "]\n",
        "cadastro.reverse()\n",
        "for c in cadastro:\n",
        "  print(c)\n"
      ]
    }
  ]
}