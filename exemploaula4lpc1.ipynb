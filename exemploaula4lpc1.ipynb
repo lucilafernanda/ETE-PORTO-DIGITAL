{
  "nbformat": 4,
  "nbformat_minor": 0,
  "metadata": {
    "colab": {
      "name": "Untitled1.ipynb",
      "provenance": [],
      "authorship_tag": "ABX9TyO2eXoOG0GxwoTLwQuqrAeQ",
      "include_colab_link": true
    },
    "kernelspec": {
      "name": "python3",
      "display_name": "Python 3"
    },
    "language_info": {
      "name": "python"
    }
  },
  "cells": [
    {
      "cell_type": "markdown",
      "metadata": {
        "id": "view-in-github",
        "colab_type": "text"
      },
      "source": [
        "<a href=\"https://colab.research.google.com/github/lucilafernanda/estudolpc1/blob/main/exemploaula4lpc1.ipynb\" target=\"_parent\"><img src=\"https://colab.research.google.com/assets/colab-badge.svg\" alt=\"Open In Colab\"/></a>"
      ]
    },
    {
      "cell_type": "code",
      "execution_count": 1,
      "metadata": {
        "colab": {
          "base_uri": "https://localhost:8080/"
        },
        "id": "HK021L6XZGJE",
        "outputId": "c08ab0d8-7f86-4c43-f246-fb44e6d9ffb9"
      },
      "outputs": [
        {
          "output_type": "stream",
          "name": "stdout",
          "text": [
            "Lucila\n",
            "Cloves\n",
            "Sophia\n"
          ]
        }
      ],
      "source": [
        "# ETE PORTO DIGITAL\n",
        "# PROFESSOR CLOVES ROCHA\n",
        "# ESTUDANTE: LUCILA\n",
        "\n",
        "\n",
        "nomes = ['Lucila', 'Cloves', 'Sophia']\n",
        "for n in nomes:\n",
        "  print (n)"
      ]
    }
  ]
}