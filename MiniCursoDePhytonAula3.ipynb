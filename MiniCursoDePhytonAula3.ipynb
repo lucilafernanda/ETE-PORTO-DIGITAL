{
  "nbformat": 4,
  "nbformat_minor": 0,
  "metadata": {
    "colab": {
      "name": "MiniCursoDePhytonAula3.ipynb",
      "provenance": [],
      "authorship_tag": "ABX9TyPSOuKHUgksfnOtbW+ICcD+",
      "include_colab_link": true
    },
    "kernelspec": {
      "name": "python3",
      "display_name": "Python 3"
    },
    "language_info": {
      "name": "python"
    }
  },
  "cells": [
    {
      "cell_type": "markdown",
      "metadata": {
        "id": "view-in-github",
        "colab_type": "text"
      },
      "source": [
        "<a href=\"https://colab.research.google.com/github/lucilafernanda/ETE-PORTO-DIGITAL/blob/main/MiniCursoDePhytonAula3.ipynb\" target=\"_parent\"><img src=\"https://colab.research.google.com/assets/colab-badge.svg\" alt=\"Open In Colab\"/></a>"
      ]
    },
    {
      "cell_type": "code",
      "execution_count": 8,
      "metadata": {
        "colab": {
          "base_uri": "https://localhost:8080/"
        },
        "id": "2vmKc-iMgWxv",
        "outputId": "cd9da3c1-44ef-41c3-93a7-7cd9d1ebcad2"
      },
      "outputs": [
        {
          "output_type": "stream",
          "name": "stdout",
          "text": [
            "8\n",
            "3\n",
            "1\n",
            "6\n",
            "3\n",
            "10\n",
            "5.0\n"
          ]
        }
      ],
      "source": [
        "# Aula - Ep. #03 - Mini Curso de Phyton\n",
        "# Professo Cloves Rocha\n",
        "# Aluna: Lucila Silva\n",
        "# Operadores Aritméticos em Phyton:\n",
        "# + Adição\n",
        "# - Subtração\n",
        "# * Multiplicação\n",
        "# / Divisão\n",
        "# ** Exponenciação\n",
        "# // Divisão inteira\n",
        "# % Resto da Divisão\n",
        "\n",
        "# 1.Exemplo de Exponenciação\n",
        "f = 2**3\n",
        "print(f)\n",
        "\n",
        "# 2.Exemplo de Divisão Inteira\n",
        "f = 10//3\n",
        "print(f)\n",
        "\n",
        "# 3.Exemplo de Resto da Divisão\n",
        "f = 10%3\n",
        "print(f)\n",
        "\n",
        "# 4.Exemplo de Adição\n",
        "f = 3+3\n",
        "print(f)\n",
        "\n",
        "# 5.Exemplo de Subtração\n",
        "f = 5-2\n",
        "print(f)\n",
        "\n",
        "# 6.Exemplo de Multiplicação\n",
        "f = 5*2\n",
        "print(f)\n",
        "\n",
        "# 7.Exemplo de Divisão\n",
        "f = 10/2\n",
        "print(f)\n"
      ]
    }
  ]
}