{
  "nbformat": 4,
  "nbformat_minor": 0,
  "metadata": {
    "colab": {
      "name": "MiniCursoDePhytonAula5.ipynb",
      "provenance": [],
      "authorship_tag": "ABX9TyN3Lz5/ecrbjNBb3iC9ATzS",
      "include_colab_link": true
    },
    "kernelspec": {
      "name": "python3",
      "display_name": "Python 3"
    },
    "language_info": {
      "name": "python"
    }
  },
  "cells": [
    {
      "cell_type": "markdown",
      "metadata": {
        "id": "view-in-github",
        "colab_type": "text"
      },
      "source": [
        "<a href=\"https://colab.research.google.com/github/lucilafernanda/ETE-PORTO-DIGITAL/blob/main/MiniCursoDePhytonAula5.ipynb\" target=\"_parent\"><img src=\"https://colab.research.google.com/assets/colab-badge.svg\" alt=\"Open In Colab\"/></a>"
      ]
    },
    {
      "cell_type": "code",
      "execution_count": 4,
      "metadata": {
        "id": "oQnc15bSUJI1",
        "colab": {
          "base_uri": "https://localhost:8080/"
        },
        "outputId": "d38e5e79-3b0a-4a05-d4fc-31c45b753be6"
      },
      "outputs": [
        {
          "output_type": "stream",
          "name": "stdout",
          "text": [
            "False\n",
            "True\n",
            "True\n"
          ]
        }
      ],
      "source": [
        "# Aula - Ep. #05 - Mini Curso de Phyton\n",
        "# Professor Cloves Rocha\n",
        "# Aluna: Lucila Silva\n",
        "# Operadores Relacionais Compostos\n",
        "\n",
        "# >= maior ou igual a \n",
        "# <= menor ou igual a \n",
        "# != diferente de \n",
        "\n",
        "l = 2\n",
        "f = 3\n",
        "print(l >= f)\n",
        "\n",
        "x = 5\n",
        "y = 6\n",
        "print(x <= y)\n",
        "\n",
        "x = 5\n",
        "y = 6 \n",
        "print (x != y)\n"
      ]
    }
  ]
}