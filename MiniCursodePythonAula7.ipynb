{
  "nbformat": 4,
  "nbformat_minor": 0,
  "metadata": {
    "colab": {
      "name": "MiniCursodePythonAula7.ipynb",
      "provenance": [],
      "authorship_tag": "ABX9TyO4cfN7sUcXe6sOa0PblEqv",
      "include_colab_link": true
    },
    "kernelspec": {
      "name": "python3",
      "display_name": "Python 3"
    },
    "language_info": {
      "name": "python"
    }
  },
  "cells": [
    {
      "cell_type": "markdown",
      "metadata": {
        "id": "view-in-github",
        "colab_type": "text"
      },
      "source": [
        "<a href=\"https://colab.research.google.com/github/lucilafernanda/ETE-PORTO-DIGITAL/blob/main/MiniCursodePythonAula7.ipynb\" target=\"_parent\"><img src=\"https://colab.research.google.com/assets/colab-badge.svg\" alt=\"Open In Colab\"/></a>"
      ]
    },
    {
      "cell_type": "code",
      "execution_count": 1,
      "metadata": {
        "id": "g45Yos8jBu0e",
        "colab": {
          "base_uri": "https://localhost:8080/"
        },
        "outputId": "590a80bf-9e11-4993-a571-75246290ec4a"
      },
      "outputs": [
        {
          "output_type": "stream",
          "name": "stdout",
          "text": [
            "Digite seu nomeLucila\n",
            "Digite aseu sobrenomeSilva\n",
            "Seu nome e sobrenome é Lucila Silva\n"
          ]
        }
      ],
      "source": [
        "# Aula - Ep. #07 - Mini Curso de Phyton\n",
        "# Professor Cloves Rocha\n",
        "# Aluna: Lucila Silva\n",
        "# Função input()\n",
        "\n",
        "\n",
        "nome = input('Digite seu nome')\n",
        "sobrenome = input('Digite aseu sobrenome')\n",
        "print(f'Seu nome e sobrenome é {nome} {sobrenome}')\n"
      ]
    }
  ]
}