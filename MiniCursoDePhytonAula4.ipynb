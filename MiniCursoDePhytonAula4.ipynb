{
  "nbformat": 4,
  "nbformat_minor": 0,
  "metadata": {
    "colab": {
      "name": "MiniCursoDePhytonAula4.ipynb",
      "provenance": [],
      "authorship_tag": "ABX9TyNm05zXdZFTSbsbZYJNW2Ll",
      "include_colab_link": true
    },
    "kernelspec": {
      "name": "python3",
      "display_name": "Python 3"
    },
    "language_info": {
      "name": "python"
    }
  },
  "cells": [
    {
      "cell_type": "markdown",
      "metadata": {
        "id": "view-in-github",
        "colab_type": "text"
      },
      "source": [
        "<a href=\"https://colab.research.google.com/github/lucilafernanda/ETE-PORTO-DIGITAL/blob/main/MiniCursoDePhytonAula4.ipynb\" target=\"_parent\"><img src=\"https://colab.research.google.com/assets/colab-badge.svg\" alt=\"Open In Colab\"/></a>"
      ]
    },
    {
      "cell_type": "code",
      "execution_count": 3,
      "metadata": {
        "id": "auFLpv9kuary",
        "colab": {
          "base_uri": "https://localhost:8080/"
        },
        "outputId": "e310feec-112f-4004-b603-641358595684"
      },
      "outputs": [
        {
          "output_type": "stream",
          "name": "stdout",
          "text": [
            "True\n",
            "False\n",
            "False\n"
          ]
        }
      ],
      "source": [
        "# Aula - Ep. #04 - Mini Curso de Phyton\n",
        "# Professor Cloves Rocha\n",
        "# Aluna: Lucila Silva\n",
        "# Operadores Relacionais Simples\n",
        "\n",
        "# > maior que\n",
        "# < menor que\n",
        "# == igual à (comparação)\n",
        "\n",
        "x = 3>2\n",
        "print(x)\n",
        "\n",
        "x = 3<2\n",
        "print(x)\n",
        "\n",
        "c = 3==5\n",
        "print(c)"
      ]
    }
  ]
}