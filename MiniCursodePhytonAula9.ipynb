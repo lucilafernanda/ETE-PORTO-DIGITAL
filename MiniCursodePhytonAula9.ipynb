{
  "nbformat": 4,
  "nbformat_minor": 0,
  "metadata": {
    "colab": {
      "name": "MiniCursodePhytonAula9.ipynb",
      "provenance": [],
      "authorship_tag": "ABX9TyMJetSy8HaxKsQqU+4YC9m9",
      "include_colab_link": true
    },
    "kernelspec": {
      "name": "python3",
      "display_name": "Python 3"
    },
    "language_info": {
      "name": "python"
    }
  },
  "cells": [
    {
      "cell_type": "markdown",
      "metadata": {
        "id": "view-in-github",
        "colab_type": "text"
      },
      "source": [
        "<a href=\"https://colab.research.google.com/github/lucilafernanda/ETE-PORTO-DIGITAL/blob/main/MiniCursodePhytonAula9.ipynb\" target=\"_parent\"><img src=\"https://colab.research.google.com/assets/colab-badge.svg\" alt=\"Open In Colab\"/></a>"
      ]
    },
    {
      "cell_type": "code",
      "execution_count": 4,
      "metadata": {
        "colab": {
          "base_uri": "https://localhost:8080/"
        },
        "id": "gGsfXwMtFSjI",
        "outputId": "29de574f-56e4-4eca-8abc-a401201cee14"
      },
      "outputs": [
        {
          "output_type": "stream",
          "name": "stdout",
          "text": [
            "Digite uma nota   -5\n",
            "este número é negativo\n"
          ]
        }
      ],
      "source": [
        "# Aula - Ep. #09 - Mini Curso de Phyton\n",
        "# Professor Cloves Rocha\n",
        "# Aluna: Lucila Silva\n",
        "# Estruturas Condicionais Aninhadas e o elif\n",
        "\n",
        "num = float(input('Digite uma nota   '))\n",
        "if num > 0:\n",
        "  print('Este número é positivo')\n",
        "elif num == 0:\n",
        "  print('Este número é neutro')  \n",
        "else:\n",
        "  print('este número é negativo')  \n",
        "\n",
        "  \n"
      ]
    }
  ]
}