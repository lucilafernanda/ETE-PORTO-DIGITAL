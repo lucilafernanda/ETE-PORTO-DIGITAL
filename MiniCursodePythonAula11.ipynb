{
  "nbformat": 4,
  "nbformat_minor": 0,
  "metadata": {
    "colab": {
      "name": "MiniCursodePythonAula11.ipynb",
      "provenance": [],
      "authorship_tag": "ABX9TyORszPGi6PMKOvy5HgGsx0q",
      "include_colab_link": true
    },
    "kernelspec": {
      "name": "python3",
      "display_name": "Python 3"
    },
    "language_info": {
      "name": "python"
    }
  },
  "cells": [
    {
      "cell_type": "markdown",
      "metadata": {
        "id": "view-in-github",
        "colab_type": "text"
      },
      "source": [
        "<a href=\"https://colab.research.google.com/github/lucilafernanda/ETE-PORTO-DIGITAL/blob/main/MiniCursodePythonAula11.ipynb\" target=\"_parent\"><img src=\"https://colab.research.google.com/assets/colab-badge.svg\" alt=\"Open In Colab\"/></a>"
      ]
    },
    {
      "cell_type": "code",
      "execution_count": 13,
      "metadata": {
        "colab": {
          "base_uri": "https://localhost:8080/"
        },
        "id": "IJQaDCz1MxXO",
        "outputId": "3fc564e1-577d-45c5-c5aa-2d6eecfbb34f"
      },
      "outputs": [
        {
          "output_type": "stream",
          "name": "stdout",
          "text": [
            "Digite um número:  3\n",
            "3 está entre 1 e 99.\n"
          ]
        }
      ],
      "source": [
        "# Aula - Ep. #11 - Mini Curso de Python\n",
        "# Professor Cloves Rocha\n",
        "# Aluna: Lucila Silva\n",
        "# Função range() e o Operador Lógico: in\n",
        "\n",
        "l = int(input('Digite um número:  '))\n",
        "if l in range(1, 100, 2):\n",
        " print(f'{l} está entre 1 e 99.')\n",
        "else: \n",
        " print(f'{l} não está entre 1 e 99.') \n"
      ]
    },
    {
      "cell_type": "markdown",
      "source": [
        "Descrição Narrativa:\n",
        "\n",
        "Insere a variável que vai receber o input e o texto que o usuário vai visualizar.\n",
        "\n",
        "Insere o if e se a variavél tiver a função range iniciando a partir de 1 até a posição 100 com intervalo de 2\n",
        "\n",
        "Imprima de forma formatada (f) a variável que vai ta recebendo o número que vai ser digitado."
      ],
      "metadata": {
        "id": "k8HlkTfBPZE4"
      }
    }
  ]
}