{
  "nbformat": 4,
  "nbformat_minor": 0,
  "metadata": {
    "colab": {
      "name": "MiniCursodePhytonAula6.ipynb",
      "provenance": [],
      "authorship_tag": "ABX9TyNTAr+4k5XO6VNBiPoXng0D",
      "include_colab_link": true
    },
    "kernelspec": {
      "name": "python3",
      "display_name": "Python 3"
    },
    "language_info": {
      "name": "python"
    }
  },
  "cells": [
    {
      "cell_type": "markdown",
      "metadata": {
        "id": "view-in-github",
        "colab_type": "text"
      },
      "source": [
        "<a href=\"https://colab.research.google.com/github/lucilafernanda/ETE-PORTO-DIGITAL/blob/main/MiniCursodePhytonAula6.ipynb\" target=\"_parent\"><img src=\"https://colab.research.google.com/assets/colab-badge.svg\" alt=\"Open In Colab\"/></a>"
      ]
    },
    {
      "cell_type": "code",
      "execution_count": 3,
      "metadata": {
        "colab": {
          "base_uri": "https://localhost:8080/"
        },
        "id": "91stSRgodQyj",
        "outputId": "b5f2e263-68f7-4735-c4a9-2faed431cc29"
      },
      "outputs": [
        {
          "output_type": "stream",
          "name": "stdout",
          "text": [
            "Olá mundo! 2 3 4 5 True False\n",
            "O número 2 é par,\n"
          ]
        }
      ],
      "source": [
        "# Aula - Ep. #06 - Mini Curso de Phyton\n",
        "# Professor Cloves Rocha\n",
        "# Aluna: Lucila Silva\n",
        "# Função Print\n",
        "\n",
        "print('Olá mundo!' , 2,3,4,5, True, False)\n",
        "\n",
        "# Número\n",
        "n = 2\n",
        "print(f'O número {n} é par,')\n",
        "\n"
      ]
    }
  ]
}