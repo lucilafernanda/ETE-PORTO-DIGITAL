{
  "nbformat": 4,
  "nbformat_minor": 0,
  "metadata": {
    "colab": {
      "name": "aula3sub.ipynb",
      "provenance": [],
      "authorship_tag": "ABX9TyNsvQ8mq5rnDh/9ujB+8NtD",
      "include_colab_link": true
    },
    "kernelspec": {
      "name": "python3",
      "display_name": "Python 3"
    },
    "language_info": {
      "name": "python"
    }
  },
  "cells": [
    {
      "cell_type": "markdown",
      "metadata": {
        "id": "view-in-github",
        "colab_type": "text"
      },
      "source": [
        "<a href=\"https://colab.research.google.com/github/lucilafernanda/estudolpc1/blob/main/aula3sub.ipynb\" target=\"_parent\"><img src=\"https://colab.research.google.com/assets/colab-badge.svg\" alt=\"Open In Colab\"/></a>"
      ]
    },
    {
      "cell_type": "code",
      "execution_count": 2,
      "metadata": {
        "colab": {
          "base_uri": "https://localhost:8080/"
        },
        "id": "vwu60O1_BMRw",
        "outputId": "f297bd9c-f138-43a1-925c-dd413e05b390"
      },
      "outputs": [
        {
          "output_type": "stream",
          "name": "stdout",
          "text": [
            "Olá, ETE PORTO DIGITAL!\n"
          ]
        }
      ],
      "source": [
        "# ETE PORTO DIGITAL\n",
        "# DISCIPLINA: LPC1\n",
        "# PROFESSOR: CLOVES\n",
        "# ESTUDANTE: LUCILA \n",
        "\n",
        "print ('Olá, ETE PORTO DIGITAL!')"
      ]
    }
  ]
}