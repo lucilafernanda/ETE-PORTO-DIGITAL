{
  "nbformat": 4,
  "nbformat_minor": 0,
  "metadata": {
    "colab": {
      "name": "MiniCursodePythonAula10.ipynb",
      "provenance": [],
      "authorship_tag": "ABX9TyNPfR5/8Fd3i7MN56GYFlwP",
      "include_colab_link": true
    },
    "kernelspec": {
      "name": "python3",
      "display_name": "Python 3"
    },
    "language_info": {
      "name": "python"
    }
  },
  "cells": [
    {
      "cell_type": "markdown",
      "metadata": {
        "id": "view-in-github",
        "colab_type": "text"
      },
      "source": [
        "<a href=\"https://colab.research.google.com/github/lucilafernanda/ETE-PORTO-DIGITAL/blob/main/MiniCursodePythonAula10.ipynb\" target=\"_parent\"><img src=\"https://colab.research.google.com/assets/colab-badge.svg\" alt=\"Open In Colab\"/></a>"
      ]
    },
    {
      "cell_type": "code",
      "execution_count": 21,
      "metadata": {
        "colab": {
          "base_uri": "https://localhost:8080/"
        },
        "id": "vjCmG6n0HLlg",
        "outputId": "14239bda-ddd8-458a-fe4e-00b7d29089b6"
      },
      "outputs": [
        {
          "output_type": "stream",
          "name": "stdout",
          "text": [
            "Qual é a sua idade:   34\n",
            "Vocé é obrigado a votar\n"
          ]
        }
      ],
      "source": [
        "# Aula - Ep. #10 - Mini Curso de Python\n",
        "# Professor Cloves Rocha\n",
        "# Aluna: Lucila Silva\n",
        "# Operadores Lógicos: and; or; not\n",
        "\n",
        "# Operador and (e)\n",
        "resposta = int(input('Qual é a sua idade:   '))\n",
        "if resposta >=18 and resposta <=65:\n",
        " print('Vocé é obrigado a votar')\n",
        "else:\n",
        " print('Você não é obrigado a votar!')     "
      ]
    },
    {
      "cell_type": "code",
      "source": [
        "# Operador or (ou)\n",
        "print('1.Idoso')\n",
        "print('2. Gestante')\n",
        "print('3. Cadeirante')\n",
        "print('4. Atendimento Comum')\n",
        "resposta = int(input('Selecione uma opção  '))\n",
        "if (resposta==1) or (resposta==2) or (resposta==3) :\n",
        "  print('Você tem direito a fila prioritária')\n",
        "else:\n",
        "  print('Aguarde sua vez na fila comum') "
      ],
      "metadata": {
        "colab": {
          "base_uri": "https://localhost:8080/"
        },
        "id": "5j_i0aUwLPxd",
        "outputId": "00dbaa69-796b-4b3d-f689-17c8d489d4c2"
      },
      "execution_count": 19,
      "outputs": [
        {
          "output_type": "stream",
          "name": "stdout",
          "text": [
            "1.Idoso\n",
            "2. Gestante\n",
            "3. Cadeirante\n",
            "4. Atendimento Comum\n",
            "Selecione uma opção  3\n",
            "Você tem direito a fila prioritária\n"
          ]
        }
      ]
    },
    {
      "cell_type": "code",
      "source": [
        "# Operador not (ele pega uma expressão e a inverte)\n",
        "a = 10\n",
        "b = 9\n",
        "print(not a < b)"
      ],
      "metadata": {
        "colab": {
          "base_uri": "https://localhost:8080/"
        },
        "id": "pr0T7VcxLc4Z",
        "outputId": "94ea988b-b151-4218-8401-37b0aebb5d26"
      },
      "execution_count": 20,
      "outputs": [
        {
          "output_type": "stream",
          "name": "stdout",
          "text": [
            "True\n"
          ]
        }
      ]
    },
    {
      "cell_type": "code",
      "source": [
        "# Outro exemplo not\n",
        "\n",
        "agencia = input('Qual a sigla da agência espacial americana?  ')\n",
        "if not agencia=='NASA':\n",
        " print('Errado, tente novamente')\n",
        "else:\n",
        "  print('Correto, NASA!')"
      ],
      "metadata": {
        "colab": {
          "base_uri": "https://localhost:8080/"
        },
        "id": "sRIOtvAWLqNx",
        "outputId": "bba0c57d-2718-4cd5-aecd-98b7ef2ce313"
      },
      "execution_count": 25,
      "outputs": [
        {
          "output_type": "stream",
          "name": "stdout",
          "text": [
            "Qual a sigla da agência espacial americana?  NASA\n",
            "Correto, NASA!\n"
          ]
        }
      ]
    }
  ]
}