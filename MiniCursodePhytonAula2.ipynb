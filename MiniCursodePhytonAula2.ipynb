{
  "nbformat": 4,
  "nbformat_minor": 0,
  "metadata": {
    "colab": {
      "name": "MiniCursodePhytonAula2.ipynb",
      "provenance": [],
      "authorship_tag": "ABX9TyOBqussas8koqr9D6fLF7Ba",
      "include_colab_link": true
    },
    "kernelspec": {
      "name": "python3",
      "display_name": "Python 3"
    },
    "language_info": {
      "name": "python"
    }
  },
  "cells": [
    {
      "cell_type": "markdown",
      "metadata": {
        "id": "view-in-github",
        "colab_type": "text"
      },
      "source": [
        "<a href=\"https://colab.research.google.com/github/lucilafernanda/ETE-PORTO-DIGITAL/blob/main/MiniCursodePhytonAula2.ipynb\" target=\"_parent\"><img src=\"https://colab.research.google.com/assets/colab-badge.svg\" alt=\"Open In Colab\"/></a>"
      ]
    },
    {
      "cell_type": "code",
      "execution_count": 11,
      "metadata": {
        "colab": {
          "base_uri": "https://localhost:8080/"
        },
        "id": "TfdD014_aghQ",
        "outputId": "24130f13-4c34-49f9-bffe-c02ff6dcf9c8"
      },
      "outputs": [
        {
          "output_type": "stream",
          "name": "stdout",
          "text": [
            "<class 'str'>\n",
            "<class 'int'>\n",
            "<class 'float'>\n",
            "False\n"
          ]
        }
      ],
      "source": [
        "# Aula - Ep. #02 - Mini Curso de Phyton\n",
        "# Professo Cloves Rocha\n",
        "# Aluna: Lucila Silva\n",
        "# Tipos Primitivos de Dados em Phyton\n",
        "\n",
        "# Tipo Inteiro (int)\n",
        "# Tipo Reais (float)\n",
        "# Tipo Boleanos (verdadeiro ou falso)\n",
        "# Tipo Caracteres (string)\n",
        "\n",
        "# 1.Exemplo de String (lembrar de sempre usar aspas)\n",
        "l = 'lucila'\n",
        "print (type(l))\n",
        "\n",
        "# 2.Exemplo de Inteiros\n",
        "l = 3\n",
        "print (type(l))\n",
        "\n",
        "# 3.Exemplo de Reais\n",
        "l = 4.5\n",
        "print (type(l))\n",
        "\n",
        "# 4.Exemplo de Boleanos\n",
        "l = 2\n",
        "f = 3\n",
        "print(l == f)"
      ]
    }
  ]
}